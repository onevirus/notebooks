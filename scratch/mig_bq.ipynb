{
 "cells": [
  {
   "cell_type": "code",
   "execution_count": 1,
   "metadata": {
    "execution": {
     "iopub.execute_input": "2020-11-02T23:59:55.368317Z",
     "iopub.status.busy": "2020-11-02T23:59:55.367845Z",
     "iopub.status.idle": "2020-11-02T23:59:56.090966Z",
     "shell.execute_reply": "2020-11-02T23:59:56.090218Z",
     "shell.execute_reply.started": "2020-11-02T23:59:55.368262Z"
    }
   },
   "outputs": [],
   "source": [
    "from skt.gcp import bq_insert_overwrite"
   ]
  },
  {
   "cell_type": "code",
   "execution_count": 7,
   "metadata": {
    "execution": {
     "iopub.execute_input": "2020-11-03T00:03:31.717891Z",
     "iopub.status.busy": "2020-11-03T00:03:31.717406Z",
     "iopub.status.idle": "2020-11-03T00:04:39.198335Z",
     "shell.execute_reply": "2020-11-03T00:04:39.197312Z",
     "shell.execute_reply.started": "2020-11-03T00:03:31.717841Z"
    }
   },
   "outputs": [
    {
     "name": "stdout",
     "output_type": "stream",
     "text": [
      "query: select * from sktaic-datahub.temp_1d.948f987b_b826_4fdb_8586_2e6b1638b1f7 where dt='2020-10-05'\n",
      "destination: sktaic-datahub.tshop.device_metadata$20201005\n",
      "total_rows: 64\n",
      "slot_secs: 7.929\n",
      "\n",
      "query: select * from sktaic-datahub.temp_1d.948f987b_b826_4fdb_8586_2e6b1638b1f7 where dt='2020-10-06'\n",
      "destination: sktaic-datahub.tshop.device_metadata$20201006\n",
      "total_rows: 65\n",
      "slot_secs: 7.905\n",
      "\n",
      "query: select * from sktaic-datahub.temp_1d.948f987b_b826_4fdb_8586_2e6b1638b1f7 where dt='2020-10-07'\n",
      "destination: sktaic-datahub.tshop.device_metadata$20201007\n",
      "total_rows: 65\n",
      "slot_secs: 8.588\n",
      "\n",
      "query: select * from sktaic-datahub.temp_1d.948f987b_b826_4fdb_8586_2e6b1638b1f7 where dt='2020-10-08'\n",
      "destination: sktaic-datahub.tshop.device_metadata$20201008\n",
      "total_rows: 65\n",
      "slot_secs: 7.974\n",
      "\n",
      "query: select * from sktaic-datahub.temp_1d.948f987b_b826_4fdb_8586_2e6b1638b1f7 where dt='2020-10-09'\n",
      "destination: sktaic-datahub.tshop.device_metadata$20201009\n",
      "total_rows: 65\n",
      "slot_secs: 7.364\n",
      "\n",
      "query: select * from sktaic-datahub.temp_1d.948f987b_b826_4fdb_8586_2e6b1638b1f7 where dt='2020-10-10'\n",
      "destination: sktaic-datahub.tshop.device_metadata$20201010\n",
      "total_rows: 65\n",
      "slot_secs: 8.91\n",
      "\n",
      "query: select * from sktaic-datahub.temp_1d.948f987b_b826_4fdb_8586_2e6b1638b1f7 where dt='2020-10-11'\n",
      "destination: sktaic-datahub.tshop.device_metadata$20201011\n",
      "total_rows: 65\n",
      "slot_secs: 8.221\n",
      "\n",
      "query: select * from sktaic-datahub.temp_1d.948f987b_b826_4fdb_8586_2e6b1638b1f7 where dt='2020-10-12'\n",
      "destination: sktaic-datahub.tshop.device_metadata$20201012\n",
      "total_rows: 65\n",
      "slot_secs: 7.674\n",
      "\n",
      "query: select * from sktaic-datahub.temp_1d.948f987b_b826_4fdb_8586_2e6b1638b1f7 where dt='2020-10-13'\n",
      "destination: sktaic-datahub.tshop.device_metadata$20201013\n",
      "total_rows: 66\n",
      "slot_secs: 6.599\n",
      "\n",
      "query: select * from sktaic-datahub.temp_1d.948f987b_b826_4fdb_8586_2e6b1638b1f7 where dt='2020-10-14'\n",
      "destination: sktaic-datahub.tshop.device_metadata$20201014\n",
      "total_rows: 66\n",
      "slot_secs: 5.973\n",
      "\n",
      "query: select * from sktaic-datahub.temp_1d.948f987b_b826_4fdb_8586_2e6b1638b1f7 where dt='2020-10-15'\n",
      "destination: sktaic-datahub.tshop.device_metadata$20201015\n",
      "total_rows: 67\n",
      "slot_secs: 4.49\n",
      "\n",
      "query: select * from sktaic-datahub.temp_1d.948f987b_b826_4fdb_8586_2e6b1638b1f7 where dt='2020-10-16'\n",
      "destination: sktaic-datahub.tshop.device_metadata$20201016\n",
      "total_rows: 67\n",
      "slot_secs: 10.047\n",
      "\n",
      "query: select * from sktaic-datahub.temp_1d.948f987b_b826_4fdb_8586_2e6b1638b1f7 where dt='2020-10-17'\n",
      "destination: sktaic-datahub.tshop.device_metadata$20201017\n",
      "total_rows: 67\n",
      "slot_secs: 4.935\n",
      "\n",
      "query: select * from sktaic-datahub.temp_1d.948f987b_b826_4fdb_8586_2e6b1638b1f7 where dt='2020-10-18'\n",
      "destination: sktaic-datahub.tshop.device_metadata$20201018\n",
      "total_rows: 67\n",
      "slot_secs: 4.571\n",
      "\n",
      "query: select * from sktaic-datahub.temp_1d.948f987b_b826_4fdb_8586_2e6b1638b1f7 where dt='2020-10-19'\n",
      "destination: sktaic-datahub.tshop.device_metadata$20201019\n",
      "total_rows: 67\n",
      "slot_secs: 4.358\n",
      "\n",
      "query: select * from sktaic-datahub.temp_1d.948f987b_b826_4fdb_8586_2e6b1638b1f7 where dt='2020-10-20'\n",
      "destination: sktaic-datahub.tshop.device_metadata$20201020\n",
      "total_rows: 67\n",
      "slot_secs: 10.567\n",
      "\n",
      "query: select * from sktaic-datahub.temp_1d.948f987b_b826_4fdb_8586_2e6b1638b1f7 where dt='2020-10-21'\n",
      "destination: sktaic-datahub.tshop.device_metadata$20201021\n",
      "total_rows: 68\n",
      "slot_secs: 4.468\n",
      "\n",
      "query: select * from sktaic-datahub.temp_1d.948f987b_b826_4fdb_8586_2e6b1638b1f7 where dt='2020-10-22'\n",
      "destination: sktaic-datahub.tshop.device_metadata$20201022\n",
      "total_rows: 68\n",
      "slot_secs: 3.771\n",
      "\n",
      "query: select * from sktaic-datahub.temp_1d.948f987b_b826_4fdb_8586_2e6b1638b1f7 where dt='2020-10-23'\n",
      "destination: sktaic-datahub.tshop.device_metadata$20201023\n",
      "total_rows: 68\n",
      "slot_secs: 5.693\n",
      "\n",
      "query: select * from sktaic-datahub.temp_1d.948f987b_b826_4fdb_8586_2e6b1638b1f7 where dt='2020-10-24'\n",
      "destination: sktaic-datahub.tshop.device_metadata$20201024\n",
      "total_rows: 68\n",
      "slot_secs: 3.744\n",
      "\n",
      "query: select * from sktaic-datahub.temp_1d.948f987b_b826_4fdb_8586_2e6b1638b1f7 where dt='2020-10-25'\n",
      "destination: sktaic-datahub.tshop.device_metadata$20201025\n",
      "total_rows: 68\n",
      "slot_secs: 3.848\n",
      "\n",
      "query: select * from sktaic-datahub.temp_1d.948f987b_b826_4fdb_8586_2e6b1638b1f7 where dt='2020-10-26'\n",
      "destination: sktaic-datahub.tshop.device_metadata$20201026\n",
      "total_rows: 68\n",
      "slot_secs: 3.459\n",
      "\n",
      "query: select * from sktaic-datahub.temp_1d.948f987b_b826_4fdb_8586_2e6b1638b1f7 where dt='2020-10-27'\n",
      "destination: sktaic-datahub.tshop.device_metadata$20201027\n",
      "total_rows: 68\n",
      "slot_secs: 4.149\n",
      "\n",
      "query: select * from sktaic-datahub.temp_1d.948f987b_b826_4fdb_8586_2e6b1638b1f7 where dt='2020-10-28'\n",
      "destination: sktaic-datahub.tshop.device_metadata$20201028\n",
      "total_rows: 68\n",
      "slot_secs: 3.612\n",
      "\n",
      "query: select * from sktaic-datahub.temp_1d.948f987b_b826_4fdb_8586_2e6b1638b1f7 where dt='2020-10-29'\n",
      "destination: sktaic-datahub.tshop.device_metadata$20201029\n",
      "total_rows: 70\n",
      "slot_secs: 3.398\n",
      "\n",
      "query: select * from sktaic-datahub.temp_1d.948f987b_b826_4fdb_8586_2e6b1638b1f7 where dt='2020-10-30'\n",
      "destination: sktaic-datahub.tshop.device_metadata$20201030\n",
      "total_rows: 70\n",
      "slot_secs: 3.148\n",
      "\n",
      "query: select * from sktaic-datahub.temp_1d.948f987b_b826_4fdb_8586_2e6b1638b1f7 where dt='2020-10-31'\n",
      "destination: sktaic-datahub.tshop.device_metadata$20201031\n",
      "total_rows: 70\n",
      "slot_secs: 5.268\n",
      "\n",
      "query: select * from sktaic-datahub.temp_1d.948f987b_b826_4fdb_8586_2e6b1638b1f7 where dt='2020-11-01'\n",
      "destination: sktaic-datahub.tshop.device_metadata$20201101\n",
      "total_rows: 70\n",
      "slot_secs: 1.836\n",
      "\n"
     ]
    }
   ],
   "source": [
    "bq_insert_overwrite(sql = \"select * from sktaic-datahub.tshop.device_meta\", destination=\"sktaic-datahub.tshop.device_metadata\", partition=\"dt\")"
   ]
  },
  {
   "cell_type": "code",
   "execution_count": 6,
   "metadata": {
    "execution": {
     "iopub.execute_input": "2020-11-03T00:03:02.164066Z",
     "iopub.status.busy": "2020-11-03T00:03:02.163580Z",
     "iopub.status.idle": "2020-11-03T00:03:02.171736Z",
     "shell.execute_reply": "2020-11-03T00:03:02.170645Z",
     "shell.execute_reply.started": "2020-11-03T00:03:02.164016Z"
    }
   },
   "outputs": [
    {
     "data": {
      "text/plain": [
       "<Signature (sql, destination, suffixes=None, partition=None, clustering_fields=None)>"
      ]
     },
     "execution_count": 6,
     "metadata": {},
     "output_type": "execute_result"
    }
   ],
   "source": [
    "import inspect\n",
    "\n",
    "inspect.signature(bq_insert_overwrite)"
   ]
  },
  {
   "cell_type": "code",
   "execution_count": null,
   "metadata": {},
   "outputs": [],
   "source": []
  }
 ],
 "metadata": {
  "kernelspec": {
   "display_name": "Python 3",
   "language": "python",
   "name": "python3"
  },
  "language_info": {
   "codemirror_mode": {
    "name": "ipython",
    "version": 3
   },
   "file_extension": ".py",
   "mimetype": "text/x-python",
   "name": "python",
   "nbconvert_exporter": "python",
   "pygments_lexer": "ipython3",
   "version": "3.6.10"
  }
 },
 "nbformat": 4,
 "nbformat_minor": 4
}
